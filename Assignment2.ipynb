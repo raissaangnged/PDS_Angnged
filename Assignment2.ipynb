{
 "cells": [
  {
   "cell_type": "markdown",
   "metadata": {},
   "source": [
    "Exercise 1: FizzBuzz\n",
    "Write a FizzBuzz Function: Create a function fizzbuzz(n) that takes an integer n as a parameter.\n",
    "Implement FizzBuzz Logic: The function should print:\n",
    "○ \"Fizz\" for multiples of 3\n",
    "○ \"Buzz\" for multiples of 5\n",
    "○ \"FizzBuzz\" for multiples of both 3 and 5\n",
    "○ The number itself for other numbers\n",
    "Call the Function: Call the function for numbers 1 to 20."
   ]
  },
  {
   "cell_type": "code",
   "execution_count": 1,
   "metadata": {},
   "outputs": [
    {
     "name": "stdout",
     "output_type": "stream",
     "text": [
      "1\n",
      "2\n",
      "Fizz\n",
      "4\n",
      "Buzz\n",
      "Fizz\n",
      "7\n",
      "8\n",
      "Fizz\n",
      "Buzz\n",
      "11\n",
      "Fizz\n",
      "13\n",
      "14\n",
      "FizzBuzz\n",
      "16\n",
      "17\n",
      "Fizz\n",
      "19\n",
      "Buzz\n"
     ]
    }
   ],
   "source": [
    "def fizzbuzz(n):\n",
    "    if n % 3 == 0 and n % 5 == 0:\n",
    "        print('FizzBuzz')\n",
    "    elif n % 3 == 0:\n",
    "        print('Fizz')\n",
    "    elif n % 5 == 0:\n",
    "        print('Buzz')\n",
    "    else:\n",
    "        print(n)\n",
    "\n",
    "for x in range(1,21):\n",
    "    fizzbuzz(x)"
   ]
  },
  {
   "cell_type": "markdown",
   "metadata": {},
   "source": [
    "Exercise 2: Basic Data Filtering\n",
    "1. Create a List of Mixed Data Types: Create a list that contains a mix of integers, strings, and floats.\n",
    "2. Filter the List: Use list comprehension to create a new list that contains only the integers from the original list.\n",
    "3. Print the New List: Output the filtered list of integers."
   ]
  },
  {
   "cell_type": "code",
   "execution_count": 4,
   "metadata": {},
   "outputs": [
    {
     "name": "stdout",
     "output_type": "stream",
     "text": [
      "[9, 15, 2001, -3]\n"
     ]
    }
   ],
   "source": [
    "list = ['hi','hello', 'goodbye', 9, 15, 2001, 0.24, 0.5, -3]\n",
    "\n",
    "list_comprehension = [x for x in list if isinstance(x, int)]\n",
    "\n",
    "print(list_comprehension)"
   ]
  },
  {
   "cell_type": "markdown",
   "metadata": {},
   "source": [
    "Exercise 3: Simple To-Do List\n",
    "1. Create an Empty List: Start with an empty list called todo_list.\n",
    "2. Define Functions:\n",
    "○ A function add_task(task) that adds a task to the list.\n",
    "○ A function show_tasks() that prints all tasks in the list."
   ]
  },
  {
   "cell_type": "code",
   "execution_count": 10,
   "metadata": {},
   "outputs": [
    {
     "name": "stdout",
     "output_type": "stream",
     "text": [
      "cook\n",
      "clean\n",
      "buy groceries\n",
      "change bedsheets\n"
     ]
    }
   ],
   "source": [
    "todo_list = []\n",
    "\n",
    "def add_task(task):\n",
    "    todo_list.append(task)\n",
    "\n",
    "def show_tasks():\n",
    "    for x in todo_list:\n",
    "        print(x)\n",
    "\n",
    "add_task('cook')\n",
    "add_task('clean')\n",
    "add_task('buy groceries')\n",
    "add_task('change bedsheets')\n",
    "\n",
    "show_tasks()"
   ]
  },
  {
   "cell_type": "markdown",
   "metadata": {},
   "source": [
    "Exercise 4: Temperature Converter\n",
    "1. Define a Conversion Function: Write a function celsius_to_fahrenheit(celsius) that converts Celsius to Fahrenheit.\n",
    "2. Print the Result: Output the converted temperature for 22ºF, 46ºF, 51ºF and 76ºF."
   ]
  },
  {
   "cell_type": "code",
   "execution_count": 13,
   "metadata": {},
   "outputs": [
    {
     "name": "stdout",
     "output_type": "stream",
     "text": [
      "The converted temperature of 22ºC is 71.6ºF\n",
      "The converted temperature of 46ºC is 114.8ºF\n",
      "The converted temperature of 51ºC is 123.8ºF\n",
      "The converted temperature of 76ºC is 168.8ºF\n"
     ]
    }
   ],
   "source": [
    "def celsius_to_fahrenheit(celsius):\n",
    "    f = celsius*(9/5)+32\n",
    "    print(f'The converted temperature of {celsius}ºC is {f}ºF')\n",
    "\n",
    "celsius_to_fahrenheit(22)\n",
    "celsius_to_fahrenheit(46)\n",
    "celsius_to_fahrenheit(51)\n",
    "celsius_to_fahrenheit(76)"
   ]
  }
 ],
 "metadata": {
  "kernelspec": {
   "display_name": "base",
   "language": "python",
   "name": "python3"
  },
  "language_info": {
   "codemirror_mode": {
    "name": "ipython",
    "version": 3
   },
   "file_extension": ".py",
   "mimetype": "text/x-python",
   "name": "python",
   "nbconvert_exporter": "python",
   "pygments_lexer": "ipython3",
   "version": "3.12.4"
  }
 },
 "nbformat": 4,
 "nbformat_minor": 2
}
