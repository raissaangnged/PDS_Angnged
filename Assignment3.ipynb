{
  "cells": [
    {
      "cell_type": "markdown",
      "id": "24b98369-c7ba-450b-a8b5-e34319000695",
      "metadata": {
        "editable": true,
        "id": "24b98369-c7ba-450b-a8b5-e34319000695",
        "tags": []
      },
      "source": [
        "# Python for Data Science\n",
        "## Session 3\n",
        "### Object Oriented Programming"
      ]
    },
    {
      "cell_type": "markdown",
      "id": "3ace1343-d73d-466d-aa07-56febbb7cbf1",
      "metadata": {
        "editable": true,
        "id": "3ace1343-d73d-466d-aa07-56febbb7cbf1",
        "tags": []
      },
      "source": [
        "---"
      ]
    },
    {
      "cell_type": "markdown",
      "id": "42f8be9a-cc71-4a58-97ac-1a54219a2d72",
      "metadata": {
        "editable": true,
        "id": "42f8be9a-cc71-4a58-97ac-1a54219a2d72",
        "tags": []
      },
      "source": [
        "## Object Oriented programming\n",
        "### Hands on\n",
        "\n",
        "Let's design a course registration system, where the requirements will be:\n",
        "\n",
        "1. Create a **Course** class, where each course has a name, a description and a list of enrolled students. You'll need to implement the next methods:\n",
        "    - Add a student to the course.\n",
        "    - Remove a student from the course.\n",
        "    - Show all students in the course."
      ]
    },
    {
      "cell_type": "code",
      "execution_count": 2,
      "id": "e5430dcf-a01a-4ea1-aff8-5bad4531ab1e",
      "metadata": {
        "editable": true,
        "id": "e5430dcf-a01a-4ea1-aff8-5bad4531ab1e",
        "tags": []
      },
      "outputs": [
        {
          "name": "stdout",
          "output_type": "stream",
          "text": [
            "Raissa is added to Python class\n",
            "Alyanna is added to Python class\n",
            "\n",
            "Charles is added to Sustainability class\n",
            "Max is added to Sustainability class\n",
            "Alyanna is added to Sustainability class\n",
            "\n",
            "Max is added to Finance class\n",
            "Raissa is added to Finance class\n",
            "\n",
            "The students of Python course are: Raissa, Alyanna\n",
            "The students of Finance course are: Max, Raissa\n",
            "The students of Sustainability course are: Charles, Max, Alyanna\n"
          ]
        }
      ],
      "source": [
        "class Course:\n",
        "    def __init__(self, name, course_type):\n",
        "        self.students = list() #or can be []\n",
        "        self.name = name\n",
        "        self.course_type = course_type\n",
        "\n",
        "    def add_student(self, student):\n",
        "        if student not in self.students:\n",
        "            self.students.append(student)\n",
        "            print(f'{student} is added to {self.name} class')\n",
        "        else:\n",
        "            print(f'{student} is already part of {self.name} class')\n",
        "\n",
        "    def remove_student(self, student):\n",
        "        if student in self.students:\n",
        "            print(f'{student} is removed from {self.name} class')\n",
        "            self.students.remove(student)\n",
        "        else:\n",
        "            print(f'{student} is not part of {self.name} class')\n",
        "\n",
        "    def all_students(self):\n",
        "        if self.students:\n",
        "            print(f'The students of {self.name} course are: {', '.join(self.students)}')\n",
        "        else:\n",
        "            print(f'No student is part of {self.name}')\n",
        "\n",
        "#Adding students to the course \n",
        "Python = Course('Python','MiBA')\n",
        "Python.add_student('Raissa')\n",
        "Python.add_student('Alyanna')\n",
        "print()\n",
        "\n",
        "Sustainability = Course('Sustainability', 'MiBA')\n",
        "Sustainability.add_student('Charles')\n",
        "Sustainability.add_student('Max')\n",
        "Sustainability.add_student('Alyanna')\n",
        "print()\n",
        "\n",
        "Finance = Course('Finance','MiBA')\n",
        "Finance.add_student('Max')\n",
        "Finance.add_student('Raissa')\n",
        "print()\n",
        "\n",
        "#Showing all students in each course\n",
        "Python.all_students()\n",
        "Finance.all_students()\n",
        "Sustainability.all_students()"
      ]
    },
    {
      "cell_type": "code",
      "execution_count": 3,
      "id": "666f3be4",
      "metadata": {},
      "outputs": [
        {
          "name": "stdout",
          "output_type": "stream",
          "text": [
            "Raissa is not part of Sustainability class\n",
            "The students of Sustainability course are: Charles, Max, Alyanna\n"
          ]
        }
      ],
      "source": [
        "#Removing students from the course and showing all students in the course\n",
        "Sustainability.remove_student('Raissa')\n",
        "Sustainability.all_students()"
      ]
    },
    {
      "cell_type": "markdown",
      "id": "16cc578c-9fe3-4478-81da-3071e3adb318",
      "metadata": {
        "editable": true,
        "id": "16cc578c-9fe3-4478-81da-3071e3adb318",
        "tags": []
      },
      "source": [
        "## Object Oriented programming\n",
        "### Hands on\n",
        "\n",
        "2. Create a **Student** class, where each student has a name, ID number, address and a list of enrolled courses with the following methods:\n",
        "    - Enroll in a course.\n",
        "    - Drop a course.\n",
        "    - Show all registered student courses."
      ]
    },
    {
      "cell_type": "code",
      "execution_count": 4,
      "id": "fe4cce31-1ddf-4847-bc8d-924dc3e0dfe1",
      "metadata": {
        "editable": true,
        "id": "fe4cce31-1ddf-4847-bc8d-924dc3e0dfe1",
        "tags": []
      },
      "outputs": [
        {
          "name": "stdout",
          "output_type": "stream",
          "text": [
            "Raissa is enrolled in Python class\n",
            "Raissa is enrolled in Sustainability class\n",
            "Raissa is enrolled in Finance class\n",
            "\n",
            "Alyanna is enrolled in Sustainability class\n",
            "\n",
            "Max is enrolled in Sustainability class\n",
            "Max is enrolled in Finance class\n",
            "\n",
            "Charles is enrolled in Sustainability class\n",
            "\n",
            "Raissa is enrolled in these classes: Python, Sustainability, Finance\n",
            "Alyanna is enrolled in these classes: Sustainability\n",
            "Max is enrolled in these classes: Sustainability, Finance\n",
            "Charles is enrolled in these classes: Sustainability\n"
          ]
        }
      ],
      "source": [
        "class Student:\n",
        "    def __init__(self, name, student_id, address):\n",
        "        self.name = name\n",
        "        self.student_id = student_id\n",
        "        self.address = address\n",
        "        self.courses = list()\n",
        "    \n",
        "    def enroll_course(self, course):\n",
        "        if course not in self.courses:\n",
        "            self.courses.append(course)\n",
        "            print(f'{self.name} is enrolled in {course.name} class')\n",
        "        else:\n",
        "            print(f'{self.name} is already enrolled in {course.name} class')\n",
        "\n",
        "    def drop_course(self, course):\n",
        "        if course in self.courses:\n",
        "            print(f'{self.name} is removed from {course.name} class')\n",
        "            self.courses.remove(course)\n",
        "        else:\n",
        "            print(f'{self.name} is not part of {course.name} class')\n",
        "    \n",
        "    def all_courses(self):\n",
        "        self_courses = [course.name for course in self.courses]\n",
        "        if self.courses:\n",
        "            print(f'{self.name} is enrolled in these classes: {', '.join(self_courses)}')\n",
        "        else:\n",
        "            print(f'{self.name} is not part of any course')\n",
        "\n",
        "#Adding students to the course\n",
        "Raissa = Student('Raissa', '0001', 'PH')\n",
        "Raissa.enroll_course(Python)\n",
        "Raissa.enroll_course(Sustainability)\n",
        "Raissa.enroll_course(Finance)\n",
        "print()\n",
        "\n",
        "Alyanna = Student('Alyanna', '0002', 'ES')\n",
        "Alyanna.enroll_course(Sustainability)\n",
        "print()\n",
        "\n",
        "Max = Student('Max','0003','NL')\n",
        "Max.enroll_course(Sustainability)\n",
        "Max.enroll_course(Finance)\n",
        "print()\n",
        "\n",
        "Charles = Student('Charles','0004','MC')\n",
        "Charles.enroll_course(Sustainability)\n",
        "print()\n",
        "\n",
        "#Showing all students' enrolled courses\n",
        "Raissa.all_courses()\n",
        "Alyanna.all_courses()\n",
        "Max.all_courses()\n",
        "Charles.all_courses()\n",
        "\n"
      ]
    },
    {
      "cell_type": "code",
      "execution_count": 5,
      "id": "60305587",
      "metadata": {},
      "outputs": [
        {
          "name": "stdout",
          "output_type": "stream",
          "text": [
            "Raissa is removed from Sustainability class\n",
            "Raissa is enrolled in these classes: Python, Finance\n",
            "\n",
            "Alyanna is not part of Finance class\n",
            "Alyanna is enrolled in these classes: Sustainability\n"
          ]
        }
      ],
      "source": [
        "#Dropping students from the course and showing all students in the course\n",
        "Raissa.drop_course(Sustainability)\n",
        "Raissa.all_courses()\n",
        "print()\n",
        "\n",
        "Alyanna.drop_course(Finance)\n",
        "Alyanna.all_courses()"
      ]
    },
    {
      "cell_type": "markdown",
      "id": "5c54b2fe-691f-4520-b8d6-2515ba92b808",
      "metadata": {
        "editable": true,
        "id": "5c54b2fe-691f-4520-b8d6-2515ba92b808",
        "tags": []
      },
      "source": [
        "## Object Oriented programming\n",
        "### Hands on\n",
        "\n",
        "3. Create a central class that manages courses and students, **Registration** class, where you have a list of students and a list of courses, and methods:\n",
        "    - Enroll in a course.\n",
        "    - Drop a course.\n",
        "    - Show all the enrolled courses.\n",
        "    - Show all the students."
      ]
    },
    {
      "cell_type": "code",
      "execution_count": 6,
      "id": "863f30c7-3cf8-4ac9-8599-e7df8e0d483c",
      "metadata": {
        "editable": true,
        "id": "863f30c7-3cf8-4ac9-8599-e7df8e0d483c",
        "tags": []
      },
      "outputs": [
        {
          "name": "stdout",
          "output_type": "stream",
          "text": [
            "Raissa is already part of Python class\n",
            "Max is added to Python class\n",
            "Max is enrolled in Python class\n",
            "\n",
            "Charles is not part of Python class\n",
            "Alyanna is removed from Sustainability class\n",
            "\n",
            "These are all the enrolled courses: Python, Finance, Sustainability\n",
            "These are all the enrolled students: Raissa, Alyanna, Max, Charles\n",
            "\n",
            "The students of Python course are: Raissa, Alyanna, Max\n",
            "The students of Finance course are: Max, Raissa\n",
            "The students of Sustainability course are: Charles, Max, Alyanna\n",
            "\n",
            "Raissa is enrolled in these classes: Python, Finance\n",
            "Alyanna is not part of any course\n",
            "Max is enrolled in these classes: Sustainability, Finance, Python\n",
            "Charles is enrolled in these classes: Sustainability\n"
          ]
        }
      ],
      "source": [
        "class Registration:\n",
        "    def __init__(self):\n",
        "        self.courses = list()\n",
        "        self.students = list()\n",
        "\n",
        "    def enroll_course(self, student, course):\n",
        "        if student not in course.students or course not in student.courses: #Need to separate into 2 if statements to avoid duplicating the print function\n",
        "            if student not in course.students:\n",
        "                course.add_student(student.name)\n",
        "            if course not in student.courses:\n",
        "                student.enroll_course(course)\n",
        "        else:\n",
        "            print(f'{student.name} is already enrolled in {course.name} class')\n",
        " \n",
        "    def drop_course(self, student, course):\n",
        "        if student in course.students or course in student.courses:\n",
        "            if student in course.students:\n",
        "                course.remove_student(student.name)\n",
        "            if course in student.courses:\n",
        "                student.drop_course(course)\n",
        "        else:\n",
        "            print(f'{student.name} is not part of {course.name} class')\n",
        "\n",
        "    def all_courses(self):\n",
        "        if self.courses:\n",
        "            self_courses = [course.name for course in self.courses]\n",
        "            print(f'These are all the enrolled courses: {', '.join(self_courses)}') \n",
        "        else:\n",
        "            print(f'There are no enrolled courses')\n",
        "\n",
        "    def all_students(self):\n",
        "        self_students = [student.name for student in self.students]\n",
        "        if self.students:\n",
        "            print(f'These are all the enrolled students: {', '.join(self_students)}')\n",
        "        else:\n",
        "            print(f'There are no enrolled students')\n",
        "\n",
        "    def enrolled_courses(self, student):\n",
        "        student.all_courses()\n",
        "    \n",
        "    def enrolled_students(self, course):\n",
        "        course.all_students()\n",
        "\n",
        "registration = Registration()\n",
        "\n",
        "#Add students and courses\n",
        "registration.courses.append(Python)\n",
        "registration.courses.append(Finance)\n",
        "registration.courses.append(Sustainability)\n",
        "registration.students.append(Raissa)\n",
        "registration.students.append(Alyanna)\n",
        "registration.students.append(Max)\n",
        "registration.students.append(Charles)\n",
        "\n",
        "#Enroll in a course\n",
        "registration.enroll_course(Raissa, Python)\n",
        "registration.enroll_course(Max, Python)\n",
        "print()\n",
        "\n",
        "#Drop a course\n",
        "registration.drop_course(Charles, Python)\n",
        "registration.drop_course(Alyanna, Sustainability)\n",
        "print()\n",
        "\n",
        "#Show all courses and all students\n",
        "registration.all_courses()\n",
        "registration.all_students()\n",
        "print()\n",
        "\n",
        "#Show all students in each course\n",
        "registration.enrolled_students(Python)\n",
        "registration.enrolled_students(Finance)\n",
        "registration.enrolled_students(Sustainability)\n",
        "print()\n",
        "\n",
        "#Show all courses each student is enrolled in\n",
        "registration.enrolled_courses(Raissa)\n",
        "registration.enrolled_courses(Alyanna)\n",
        "registration.enrolled_courses(Max)\n",
        "registration.enrolled_courses(Charles)\n",
        "\n",
        "\n"
      ]
    },
    {
      "cell_type": "markdown",
      "id": "2958b01b-3472-4c95-ae1f-771edc638749",
      "metadata": {
        "editable": true,
        "id": "2958b01b-3472-4c95-ae1f-771edc638749",
        "tags": []
      },
      "source": [
        "## Object Oriented programming\n",
        "### Howework\n",
        "\n",
        "4. Let's add grades to each student's course and create method that yields the GPA given a student name or ID."
      ]
    },
    {
      "cell_type": "code",
      "execution_count": 7,
      "id": "b5a692d0",
      "metadata": {},
      "outputs": [
        {
          "name": "stdout",
          "output_type": "stream",
          "text": [
            "Raissa received 95 in Python class\n",
            "Raissa received 90 in Finance class\n",
            "Max received 93 in Sustainability class\n",
            "Max received 89 in Finance class\n",
            "Max received 87 in Python class\n",
            "Charles received 99 in Sustainability class\n",
            "\n",
            "Raissa received a GPA of 92.50\n",
            "Alyanna has not yet received any grades\n",
            "Max received a GPA of 89.67\n",
            "Charles received a GPA of 99.00\n",
            "\n",
            "Raissa received a GPA of 92.50\n",
            "ID: 0002 has not yet received any grades\n",
            "Max received a GPA of 89.67\n",
            "Charles received a GPA of 99.00\n"
          ]
        }
      ],
      "source": [
        "class Grades:\n",
        "    def __init__(self):\n",
        "        self.grades = {} \n",
        "\n",
        "    def add_grade(self, student, course, grade):\n",
        "        if student not in self.grades:\n",
        "            self.grades[student] = {}\n",
        "        self.grades[student][course] = grade\n",
        "        print(f'{student.name} received {grade} in {course.name} class')\n",
        "\n",
        "    def student_gpa(self, student):\n",
        "        if student not in self.grades:\n",
        "            print(f'{student.name} has not yet received any grades')\n",
        "        else:\n",
        "            gpa = sum(self.grades[student].values()) / len(self.grades[student].values()) \n",
        "            print(f'{student.name} received a GPA of {gpa:.2f}')\n",
        "            \n",
        "    def studentID_gpa(self, ID):\n",
        "        matched = [student for student in self.grades if student.student_id == ID] \n",
        "        if matched:\n",
        "            self.student_gpa(matched[0])\n",
        "        else:\n",
        "            print(f'ID: {ID} has not yet received any grades')\n",
        "\n",
        "grades = Grades()\n",
        "\n",
        "#Add grades\n",
        "grades.add_grade(Raissa, Python, 95)\n",
        "grades.add_grade(Raissa, Finance, 90)\n",
        "grades.add_grade(Max, Sustainability, 93)\n",
        "grades.add_grade(Max, Finance, 89)\n",
        "grades.add_grade(Max, Python, 87)\n",
        "grades.add_grade(Charles, Sustainability, 99)\n",
        "print() \n",
        "\n",
        "#Show GPA using student names\n",
        "grades.student_gpa(Raissa)\n",
        "grades.student_gpa(Alyanna)\n",
        "grades.student_gpa(Max)\n",
        "grades.student_gpa(Charles)\n",
        "print()\n",
        "\n",
        "#Show GPA using student ID\n",
        "grades.studentID_gpa('0001')\n",
        "grades.studentID_gpa('0002')\n",
        "grades.studentID_gpa('0003')\n",
        "grades.studentID_gpa('0004')"
      ]
    },
    {
      "cell_type": "markdown",
      "id": "76c565a9-dc30-464c-980d-d522cd5246f4",
      "metadata": {
        "editable": true,
        "id": "76c565a9-dc30-464c-980d-d522cd5246f4",
        "tags": []
      },
      "source": [
        "## That's all!"
      ]
    }
  ],
  "metadata": {
    "colab": {
      "provenance": []
    },
    "kernelspec": {
      "display_name": "Python 3",
      "language": "python",
      "name": "python3"
    },
    "language_info": {
      "codemirror_mode": {
        "name": "ipython",
        "version": 3
      },
      "file_extension": ".py",
      "mimetype": "text/x-python",
      "name": "python",
      "nbconvert_exporter": "python",
      "pygments_lexer": "ipython3",
      "version": "3.12.7"
    }
  },
  "nbformat": 4,
  "nbformat_minor": 5
}
