{
 "cells": [
  {
   "cell_type": "markdown",
   "id": "6e020fc9",
   "metadata": {},
   "source": [
    "Exercise 1: Print a Greeting \n",
    "\n",
    "Write a Python program that prints a greeting message, such as \"Hello, Python!\"."
   ]
  },
  {
   "cell_type": "code",
   "execution_count": 3,
   "id": "a25c8550-4feb-452d-b790-44a56c738878",
   "metadata": {},
   "outputs": [
    {
     "name": "stdout",
     "output_type": "stream",
     "text": [
      "Hello, Python!\n"
     ]
    }
   ],
   "source": [
    "print('Hello, Python!')"
   ]
  },
  {
   "cell_type": "markdown",
   "id": "2072ada5",
   "metadata": {},
   "source": [
    "Exercise 2: Basic Arithmetic\n",
    "\n",
    "Create a program that:\n",
    "○ Defines two variables, a and b, with numerical values.\n",
    "○ Prints their sum, difference, product, and quotient."
   ]
  },
  {
   "cell_type": "code",
   "execution_count": 207,
   "id": "a64c5e0b-19ae-4a5e-affb-961bd2bc2142",
   "metadata": {},
   "outputs": [
    {
     "name": "stdout",
     "output_type": "stream",
     "text": [
      "The sum of a and b is 24\n",
      "The difference of a and b is 6\n",
      "The product of a and b is 135\n",
      "The quotient of a and b is 1.6666666666666667\n"
     ]
    }
   ],
   "source": [
    "a = 15\n",
    "b = 9\n",
    "print(f'The sum of a and b is {a+b}')\n",
    "print(f'The difference of a and b is {a-b}')\n",
    "print(f'The product of a and b is {a*b}')\n",
    "print(f'The quotient of a and b is {a/b}')"
   ]
  },
  {
   "cell_type": "markdown",
   "id": "8a542c20",
   "metadata": {},
   "source": [
    "Exercise 3: String Manipulation\n",
    "\n",
    "Define a variable name and assign it your name. Write a program that prints a message saying\n",
    "\"Hello, [name]!\" where [name] is the value of the variable."
   ]
  },
  {
   "cell_type": "code",
   "execution_count": 24,
   "id": "a24ecffa-1bdd-45bf-be63-93ee8d258082",
   "metadata": {},
   "outputs": [
    {
     "name": "stdout",
     "output_type": "stream",
     "text": [
      "Hello, Raissa!\n"
     ]
    }
   ],
   "source": [
    "name = 'Raissa'\n",
    "print(f'Hello, {name}!')"
   ]
  },
  {
   "cell_type": "markdown",
   "id": "4124a23d",
   "metadata": {},
   "source": [
    "Exercise 4: Lists\n",
    "\n",
    "Create a list called universities with at least five different university names.\n",
    "● Print the entire list.\n",
    "● Print the first and last university in the list."
   ]
  },
  {
   "cell_type": "code",
   "execution_count": 34,
   "id": "8edc6e6a-249d-4087-a136-7ef6018a1519",
   "metadata": {},
   "outputs": [
    {
     "name": "stdout",
     "output_type": "stream",
     "text": [
      "['ESADE', 'UAB', 'IE', 'IESE', 'UAM']\n",
      "ESADE UAM\n"
     ]
    }
   ],
   "source": [
    "universities = ['ESADE','UAB','IE','IESE','UAM']\n",
    "print(universities)\n",
    "print(universities[0],universities[4])"
   ]
  },
  {
   "cell_type": "markdown",
   "id": "65f88cba",
   "metadata": {},
   "source": [
    "Exercise 5: Dictionaries\n",
    "\n",
    "Create a dictionary called student with keys: name, age, and grade, and assign appropriate\n",
    "values to each key.\n",
    "● Write a program that prints each key-value pair in the dictionary."
   ]
  },
  {
   "cell_type": "code",
   "execution_count": 61,
   "id": "19557e0d-9bf7-442a-b858-2a771d800fe2",
   "metadata": {},
   "outputs": [
    {
     "name": "stdout",
     "output_type": "stream",
     "text": [
      "name: Raissa\n",
      "age: 23\n",
      "grade: A\n"
     ]
    }
   ],
   "source": [
    "student = {'name':'Raissa',\n",
    "            'age':23,\n",
    "            'grade':'A'}\n",
    "for x,y in student.items():\n",
    "    print(f'{x}: {y}')"
   ]
  },
  {
   "cell_type": "markdown",
   "id": "30e28a77",
   "metadata": {},
   "source": [
    "Exercise 6: Tuples\n",
    "\n",
    "Define a tuple called coordinates with two values representing a point in 2D space (e.g., (x, y)).\n",
    "● Print the value of coordinates and access each element by its index."
   ]
  },
  {
   "cell_type": "code",
   "execution_count": 51,
   "id": "8820df2f-1992-404e-9582-6bdd2c392a7d",
   "metadata": {},
   "outputs": [
    {
     "name": "stdout",
     "output_type": "stream",
     "text": [
      "9 , 15\n"
     ]
    }
   ],
   "source": [
    "coordinates = (9,15)\n",
    "print(coordinates[0],',',coordinates[1])"
   ]
  },
  {
   "cell_type": "markdown",
   "id": "d616038c",
   "metadata": {},
   "source": [
    "Exercise 7: Sets\n",
    "\n",
    "Create a set called colors with the values: \"red\", \"green\", \"blue\".\n",
    "● Add another color to the set.\n",
    "● Try adding a duplicate color and observe what happens.\n",
    "● Print the set and remove one color from it.\n",
    "● Create another set named light_colors and merge colors and light_colors."
   ]
  },
  {
   "cell_type": "code",
   "execution_count": 63,
   "id": "5179db05-c593-458e-9c33-e2501a8b3e50",
   "metadata": {},
   "outputs": [
    {
     "name": "stdout",
     "output_type": "stream",
     "text": [
      "{'green', 'purple', 'blue', 'red'}\n",
      "{'yellow', 'orange', 'purple', 'blue', 'red'}\n"
     ]
    }
   ],
   "source": [
    "colors = {'red','green','blue'}\n",
    "colors.add('purple')\n",
    "colors.add('red')\n",
    "print(colors)\n",
    "colors.pop()\n",
    "light_colors = {'yellow','orange'}\n",
    "print(colors.union(light_colors))"
   ]
  },
  {
   "cell_type": "markdown",
   "id": "b768c67f",
   "metadata": {},
   "source": [
    "Exercise 8: Conditional Statements\n",
    "\n",
    "Write a program that:\n",
    "○ Takes an input number from the user.\n",
    "○ Checks if the number is positive, negative, or zero.\n",
    "○ Prints an appropriate message based on the result."
   ]
  },
  {
   "cell_type": "code",
   "execution_count": 67,
   "id": "3327b377-542e-4e33-b159-31f209cc9cd0",
   "metadata": {},
   "outputs": [
    {
     "name": "stdout",
     "output_type": "stream",
     "text": [
      " 3.8\n"
     ]
    },
    {
     "name": "stdout",
     "output_type": "stream",
     "text": [
      "The number 3.8 is positive\n"
     ]
    }
   ],
   "source": [
    "x = float(input())\n",
    "if x > 0: print(f'The number {x} is positive')\n",
    "elif x == 0: print(f'The number {x} is zero')\n",
    "elif x < 0: print(f'The number {x} is negative')"
   ]
  },
  {
   "cell_type": "markdown",
   "id": "0a6235e5",
   "metadata": {},
   "source": [
    "Exercise 9: For Loop\n",
    "\n",
    "● Create a list of numbers from 1 to 5.\n",
    "● Use a for loop to iterate through the list and print each number."
   ]
  },
  {
   "cell_type": "code",
   "execution_count": 80,
   "id": "71865b01-bc9a-40d5-904b-592081e57b78",
   "metadata": {},
   "outputs": [
    {
     "name": "stdout",
     "output_type": "stream",
     "text": [
      "1\n",
      "2\n",
      "3\n",
      "4\n",
      "5\n"
     ]
    }
   ],
   "source": [
    "list = [1,2,3,4,5]\n",
    "for x in list:\n",
    "    print(x)"
   ]
  },
  {
   "cell_type": "markdown",
   "id": "3383534c",
   "metadata": {},
   "source": [
    "Exercise 10: While Loop\n",
    "\n",
    "● Write a program that uses a while loop to print numbers from 1 to 5.\n",
    "● Ensure the loop terminates correctly."
   ]
  },
  {
   "cell_type": "code",
   "execution_count": 69,
   "id": "d39e08a9-9b16-45d2-bca5-68facf614392",
   "metadata": {},
   "outputs": [
    {
     "name": "stdout",
     "output_type": "stream",
     "text": [
      "1\n",
      "2\n",
      "3\n",
      "4\n",
      "5\n",
      "Loop finished\n"
     ]
    }
   ],
   "source": [
    "x = 0\n",
    "while x < 5: \n",
    "    x += 1\n",
    "    print(x)\n",
    "else: \n",
    "    print('Loop finished')"
   ]
  },
  {
   "cell_type": "markdown",
   "id": "3abafe61",
   "metadata": {},
   "source": [
    "Exercise 11: Match Statement (Python 3.10+)\n",
    "\n",
    "● Write a program that:\n",
    "○ Asks the user to input a grade (e.g., \"A\", \"B\", \"C\", \"D\", or \"F\").\n",
    "○ Use a match statement to print a corresponding message for each grade:\n",
    "■ \"A\": \"Excellent!\"\n",
    "■ \"B\": \"Good job!\"\n",
    "■ \"C\": \"Fair.\"\n",
    "■ \"D\": \"Needs improvement.\"\n",
    "■ \"F\": \"Failing.\"\n",
    "○ Handle invalid input by printing a default message."
   ]
  },
  {
   "cell_type": "code",
   "execution_count": 103,
   "id": "d4c6a9b9-c475-4aa3-b33d-3b054c3f55c9",
   "metadata": {},
   "outputs": [
    {
     "name": "stdout",
     "output_type": "stream",
     "text": [
      "Input a grade:  A\n"
     ]
    },
    {
     "name": "stdout",
     "output_type": "stream",
     "text": [
      "Excellent!\n"
     ]
    }
   ],
   "source": [
    "x = input('Input a grade: ')\n",
    "match x:\n",
    "    case 'A':\n",
    "        print('Excellent!')\n",
    "    case 'B':\n",
    "        print('Good job!')\n",
    "    case 'C':\n",
    "        print('Fair')\n",
    "    case 'D':\n",
    "        print('Needs improvement.')\n",
    "    case 'F':\n",
    "        print('Failing.')\n",
    "    case _:\n",
    "        print('Invalid grade')"
   ]
  },
  {
   "cell_type": "markdown",
   "id": "58ed7b78",
   "metadata": {},
   "source": [
    "Exercise 12: Define a Function\n",
    "\n",
    "● Write a function called greet that takes a name as an argument and prints \"Hello, [name]!\".\n",
    "● Call the function with your own name."
   ]
  },
  {
   "cell_type": "code",
   "execution_count": 117,
   "id": "9342e969-fba4-4052-b572-e8890ddcec07",
   "metadata": {},
   "outputs": [
    {
     "name": "stdout",
     "output_type": "stream",
     "text": [
      "Hello, Raissa!\n"
     ]
    }
   ],
   "source": [
    "def greet(name):\n",
    "    return f'Hello, {name}!'\n",
    "\n",
    "print(greet('Raissa'))"
   ]
  },
  {
   "cell_type": "markdown",
   "id": "2f9d24d7",
   "metadata": {},
   "source": [
    "Exercise 13: Function with Return Value\n",
    "\n",
    "● Define a function called square that takes a number as an argument and returns its square.\n",
    "● Print the result of calling this function with different numbers."
   ]
  },
  {
   "cell_type": "code",
   "execution_count": 123,
   "id": "b31fde55-a87d-4fb3-bef3-3aacb40f0049",
   "metadata": {},
   "outputs": [
    {
     "name": "stdout",
     "output_type": "stream",
     "text": [
      "81\n",
      "225\n",
      "4004001\n"
     ]
    }
   ],
   "source": [
    "def square(x):\n",
    "    return x**2\n",
    "\n",
    "print(square(9))\n",
    "print(square(15))\n",
    "print(square(2001))"
   ]
  },
  {
   "cell_type": "markdown",
   "id": "ed8b4602",
   "metadata": {},
   "source": [
    "Exercise 14: Function with Default Parameters\n",
    "\n",
    "● Write a function called multiply that takes two parameters, a and b, and returns their product.\n",
    "Set a default value of 1 for the parameter b.\n",
    "● Test the function with and without providing the second argument."
   ]
  },
  {
   "cell_type": "code",
   "execution_count": 121,
   "id": "bdc73964-58e6-46ba-b1cf-c72237b13447",
   "metadata": {},
   "outputs": [
    {
     "name": "stdout",
     "output_type": "stream",
     "text": [
      "2001\n",
      "135\n"
     ]
    }
   ],
   "source": [
    "def multiply(a, b=1):\n",
    "    return a*b\n",
    "\n",
    "print(multiply(2001))\n",
    "print(multiply(9,15))"
   ]
  },
  {
   "cell_type": "markdown",
   "id": "359d0ac4",
   "metadata": {},
   "source": [
    "Exercise 15: List Comprehension\n",
    "\n",
    "● Create a list of numbers from 1 to 10.\n",
    "● Use list comprehension to create a new list that contains the squares of these numbers.\n",
    "● Print the new list."
   ]
  },
  {
   "cell_type": "code",
   "execution_count": 129,
   "id": "2dc8b3b7-af4a-4412-862e-7d21f6472778",
   "metadata": {},
   "outputs": [
    {
     "name": "stdout",
     "output_type": "stream",
     "text": [
      "[1, 4, 9, 16, 25, 36, 49, 64, 81, 100]\n"
     ]
    }
   ],
   "source": [
    "list = [1,2,3,4,5,6,7,8,9,10]\n",
    "list_square = [x**2 for x in list]\n",
    "print(list_square)"
   ]
  },
  {
   "cell_type": "markdown",
   "id": "716a945a",
   "metadata": {},
   "source": [
    "Exercise 16: Nested Data Structures\n",
    "\n",
    "● Create a dictionary where the keys are names of students and the values are lists of their grades.\n",
    "● Write a function that takes the dictionary and prints the average grade for each student."
   ]
  },
  {
   "cell_type": "code",
   "execution_count": 29,
   "id": "ef091ecd-ec21-4608-b9b7-02b14da19e21",
   "metadata": {},
   "outputs": [
    {
     "name": "stdout",
     "output_type": "stream",
     "text": [
      "Raissa: 91.5\n",
      "Gillian: 91.25\n",
      "Richie: 89.75\n",
      "Allen: 89.25\n"
     ]
    }
   ],
   "source": [
    "dictionary = {'Raissa':[97,93,86,90],\n",
    "              'Gillian':[89,90,88,98],\n",
    "              'Richie':[91,95,88,85],\n",
    "              'Allen': [92,94,87,84]}\n",
    "\n",
    "def avg_grade(dict):\n",
    "    for name, grades in dict.items():\n",
    "        print(f'{name}: {sum(grades)/len(grades)}')\n",
    "\n",
    "avg_grade(dictionary)"
   ]
  },
  {
   "cell_type": "markdown",
   "id": "69d21b54",
   "metadata": {},
   "source": [
    "Exercise 17: Simple Calculator\n",
    "\n",
    "Write a program that:\n",
    "○ Defines a function calculate which takes three parameters: two numbers and an operator (+, -, *, /)\n",
    "○ Performs the operation and returns the result.\n",
    "○ Ask the user for the two numbers and the operator, then call the function and print the result."
   ]
  },
  {
   "cell_type": "code",
   "execution_count": 73,
   "id": "ad949888-b41c-4ccf-8326-f1984f65285b",
   "metadata": {},
   "outputs": [
    {
     "name": "stdout",
     "output_type": "stream",
     "text": [
      "Input a number 5\n",
      "Input another number 5\n",
      "Input any of these operators (+, -, *,/):  +\n"
     ]
    },
    {
     "name": "stdout",
     "output_type": "stream",
     "text": [
      "10\n"
     ]
    }
   ],
   "source": [
    "def calculate(x,y,z):\n",
    "    match z:\n",
    "        case '+':\n",
    "            print(x+y)\n",
    "        case '-':\n",
    "            print(x-y)\n",
    "        case '*':\n",
    "            print(x*y)\n",
    "        case '/':\n",
    "            print(x/y)\n",
    "        case _:\n",
    "            print('Invalid operator')\n",
    "\n",
    "num = int(input('Input a number'))\n",
    "num2 = int(input('Input another number'))\n",
    "operator = input('Input any of these operators (+, -, *,/): ')\n",
    "\n",
    "\n",
    "calculate(num,num2,operator)"
   ]
  }
 ],
 "metadata": {
  "kernelspec": {
   "display_name": "Python 3 (ipykernel)",
   "language": "python",
   "name": "python3"
  },
  "language_info": {
   "codemirror_mode": {
    "name": "ipython",
    "version": 3
   },
   "file_extension": ".py",
   "mimetype": "text/x-python",
   "name": "python",
   "nbconvert_exporter": "python",
   "pygments_lexer": "ipython3",
   "version": "3.12.4"
  }
 },
 "nbformat": 4,
 "nbformat_minor": 5
}
